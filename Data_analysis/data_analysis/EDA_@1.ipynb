{
 "cells": [
  {
   "cell_type": "code",
   "execution_count": 11,
   "id": "4d9eadaf",
   "metadata": {},
   "outputs": [
    {
     "data": {
      "text/plain": [
       "<Response [200]>"
      ]
     },
     "execution_count": 11,
     "metadata": {},
     "output_type": "execute_result"
    }
   ],
   "source": [
    "import requests\n",
    "import pandas\n",
    "requests.get('https://api.themoviedb.org/3/movie/popular?api_key=c3a2506b8176c9c16296d5c28975d11f&language=en-US&page=1')"
   ]
  },
  {
   "cell_type": "code",
   "execution_count": 12,
   "id": "672578a8",
   "metadata": {},
   "outputs": [],
   "source": [
    "response=requests.get('https://api.themoviedb.org/3/movie/popular?api_key=c3a2506b8176c9c16296d5c28975d11f&language=en-US&page=1').json()"
   ]
  },
  {
   "cell_type": "code",
   "execution_count": 9,
   "id": "7f9da250",
   "metadata": {},
   "outputs": [
    {
     "data": {
      "text/plain": [
       "{'page': 1,\n",
       " 'results': [{'adult': False,\n",
       "   'backdrop_path': '/coATv42PoiLqAFKStJiMZs2r6Zb.jpg',\n",
       "   'genre_ids': [16, 10751, 18, 12, 35],\n",
       "   'id': 1022789,\n",
       "   'original_language': 'en',\n",
       "   'original_title': 'Inside Out 2',\n",
       "   'overview': \"Teenager Riley's mind headquarters is undergoing a sudden demolition to make room for something entirely unexpected: new Emotions! Joy, Sadness, Anger, Fear and Disgust, who’ve long been running a successful operation by all accounts, aren’t sure how to feel when Anxiety shows up. And it looks like she’s not alone.\",\n",
       "   'popularity': 9750.804,\n",
       "   'poster_path': '/vpnVM9B6NMmQpWeZvzLvDESb2QY.jpg',\n",
       "   'release_date': '2024-06-11',\n",
       "   'title': 'Inside Out 2',\n",
       "   'video': False,\n",
       "   'vote_average': 7.761,\n",
       "   'vote_count': 205},\n",
       "  {'adult': False,\n",
       "   'backdrop_path': '/fqv8v6AycXKsivp1T5yKtLbGXce.jpg',\n",
       "   'genre_ids': [878, 12, 28],\n",
       "   'id': 653346,\n",
       "   'original_language': 'en',\n",
       "   'original_title': 'Kingdom of the Planet of the Apes',\n",
       "   'overview': \"Several generations in the future following Caesar's reign, apes are now the dominant species and live harmoniously while humans have been reduced to living in the shadows. As a new tyrannical ape leader builds his empire, one young ape undertakes a harrowing journey that will cause him to question all that he has known about the past and to make choices that will define a future for apes and humans alike.\",\n",
       "   'popularity': 4014.879,\n",
       "   'poster_path': '/gKkl37BQuKTanygYQG1pyYgLVgf.jpg',\n",
       "   'release_date': '2024-05-08',\n",
       "   'title': 'Kingdom of the Planet of the Apes',\n",
       "   'video': False,\n",
       "   'vote_average': 6.832,\n",
       "   'vote_count': 1073},\n",
       "  {'adult': False,\n",
       "   'backdrop_path': '/hliXekHv7xc2cgXnMBLlp4Eihq8.jpg',\n",
       "   'genre_ids': [53, 27, 28, 9648],\n",
       "   'id': 1001311,\n",
       "   'original_language': 'fr',\n",
       "   'original_title': 'Sous la Seine',\n",
       "   'overview': 'In the Summer of 2024, Paris is hosting the World Triathlon Championships on the Seine for the first time. Sophia, a brilliant scientist, learns from Mika, a young environmental activist, that a large shark is swimming deep in the river. To avoid a bloodbath at the heart of the city, they have no choice but to join forces with Adil, the Seine river police commander.',\n",
       "   'popularity': 2822.686,\n",
       "   'poster_path': '/qZPLK5ktRKa3CL4sKRZtj8UlPYc.jpg',\n",
       "   'release_date': '2024-06-05',\n",
       "   'title': 'Under Paris',\n",
       "   'video': False,\n",
       "   'vote_average': 5.82,\n",
       "   'vote_count': 520},\n",
       "  {'adult': False,\n",
       "   'backdrop_path': '/gRApXuxWmO2forYTuTmcz5RaNUV.jpg',\n",
       "   'genre_ids': [28, 80, 53, 35],\n",
       "   'id': 573435,\n",
       "   'original_language': 'en',\n",
       "   'original_title': 'Bad Boys: Ride or Die',\n",
       "   'overview': 'After their late former Captain is framed, Lowrey and Burnett try to clear his name, only to end up on the run themselves.',\n",
       "   'popularity': 2744.583,\n",
       "   'poster_path': '/nP6RliHjxsz4irTKsxe8FRhKZYl.jpg',\n",
       "   'release_date': '2024-06-05',\n",
       "   'title': 'Bad Boys: Ride or Die',\n",
       "   'video': False,\n",
       "   'vote_average': 7.069,\n",
       "   'vote_count': 298},\n",
       "  {'adult': False,\n",
       "   'backdrop_path': '/j29ekbcLpBvxnGk6LjdTc2EI5SA.jpg',\n",
       "   'genre_ids': [16, 10751, 12, 18, 35],\n",
       "   'id': 150540,\n",
       "   'original_language': 'en',\n",
       "   'original_title': 'Inside Out',\n",
       "   'overview': 'From an adventurous balloon ride above the clouds to a monster-filled metropolis, Academy Award®-winning director Pete Docter (“Monsters, Inc.,” “Up”) has taken audiences to unique and imaginative places. In Disney and Pixar’s original movie “ Inside Out,” he will take us to the most extraordinary location of all—inside the mind.',\n",
       "   'popularity': 2731.637,\n",
       "   'poster_path': '/2H1TmgdfNtsKlU9jKdeNyYL5y8T.jpg',\n",
       "   'release_date': '2015-06-17',\n",
       "   'title': 'Inside Out',\n",
       "   'video': False,\n",
       "   'vote_average': 7.916,\n",
       "   'vote_count': 20583},\n",
       "  {'adult': False,\n",
       "   'backdrop_path': '/veIyxxi5Gs8gvztLEW1Ysb8rrzs.jpg',\n",
       "   'genre_ids': [878, 28, 12],\n",
       "   'id': 823464,\n",
       "   'original_language': 'en',\n",
       "   'original_title': 'Godzilla x Kong: The New Empire',\n",
       "   'overview': 'Following their explosive showdown, Godzilla and Kong must reunite against a colossal undiscovered threat hidden within our world, challenging their very existence – and our own.',\n",
       "   'popularity': 2007.024,\n",
       "   'poster_path': '/z1p34vh7dEOnLDmyCrlUVLuoDzd.jpg',\n",
       "   'release_date': '2024-03-27',\n",
       "   'title': 'Godzilla x Kong: The New Empire',\n",
       "   'video': False,\n",
       "   'vote_average': 7.217,\n",
       "   'vote_count': 2792},\n",
       "  {'adult': False,\n",
       "   'backdrop_path': '/z121dSTR7PY9KxKuvwiIFSYW8cf.jpg',\n",
       "   'genre_ids': [10752, 28, 18],\n",
       "   'id': 929590,\n",
       "   'original_language': 'en',\n",
       "   'original_title': 'Civil War',\n",
       "   'overview': 'In the near future, a group of war journalists attempt to survive while reporting the truth as the United States stands on the brink of civil war.',\n",
       "   'popularity': 1707.985,\n",
       "   'poster_path': '/sh7Rg8Er3tFcN9BpKIPOMvALgZd.jpg',\n",
       "   'release_date': '2024-04-10',\n",
       "   'title': 'Civil War',\n",
       "   'video': False,\n",
       "   'vote_average': 7.008,\n",
       "   'vote_count': 1575},\n",
       "  {'adult': False,\n",
       "   'backdrop_path': '/vblTCXOWUQGSc837vgbhDRi4HSc.jpg',\n",
       "   'genre_ids': [28, 80, 35, 53],\n",
       "   'id': 955555,\n",
       "   'original_language': 'ko',\n",
       "   'original_title': '범죄도시3',\n",
       "   'overview': 'Detective Ma Seok-do changes his affiliation from the Geumcheon Police Station to the Metropolitan Investigation Team, in order to eradicate Japanese gangsters who enter Korea to commit heinous crimes.',\n",
       "   'popularity': 1415.101,\n",
       "   'poster_path': '/lW6IHrtaATxDKYVYoQGU5sh0OVm.jpg',\n",
       "   'release_date': '2023-05-31',\n",
       "   'title': 'The Roundup: No Way Out',\n",
       "   'video': False,\n",
       "   'vote_average': 7.071,\n",
       "   'vote_count': 266},\n",
       "  {'adult': False,\n",
       "   'backdrop_path': '/3TNSoa0UHGEzEz5ndXGjJVKo8RJ.jpg',\n",
       "   'genre_ids': [878, 28],\n",
       "   'id': 614933,\n",
       "   'original_language': 'en',\n",
       "   'original_title': 'Atlas',\n",
       "   'overview': 'A brilliant counterterrorism analyst with a deep distrust of AI discovers it might be her only hope when a mission to capture a renegade robot goes awry.',\n",
       "   'popularity': 1161.652,\n",
       "   'poster_path': '/bcM2Tl5HlsvPBnL8DKP9Ie6vU4r.jpg',\n",
       "   'release_date': '2024-05-23',\n",
       "   'title': 'Atlas',\n",
       "   'video': False,\n",
       "   'vote_average': 6.767,\n",
       "   'vote_count': 788},\n",
       "  {'adult': False,\n",
       "   'backdrop_path': '/kZbTOcTrEGyroQMWQSGIRlNSkwP.jpg',\n",
       "   'genre_ids': [878, 28, 14, 12],\n",
       "   'id': 626412,\n",
       "   'original_language': 'ko',\n",
       "   'original_title': '외계+인 2부',\n",
       "   'overview': 'Ean has a critical mission to return to the future to save everyone. However, she becomes trapped in the distant past while trying to prevent the escape of alien prisoners who are locked up in the bodies of humans. Meanwhile, Muruk, who helps Ean escape various predicaments, is unnerved when he begins sensing the presence of a strange being in his body. Traveling through the centuries, they are trying to prevent the explosion of the haava.',\n",
       "   'popularity': 1113.643,\n",
       "   'poster_path': '/4RClncz0GTKPZzSAcAalHCw0h3g.jpg',\n",
       "   'release_date': '2024-01-10',\n",
       "   'title': 'Alienoid: Return to the Future',\n",
       "   'video': False,\n",
       "   'vote_average': 6.567,\n",
       "   'vote_count': 239},\n",
       "  {'adult': False,\n",
       "   'backdrop_path': '/oavbmL3iddJUmC8nQjL6bLHwAP4.jpg',\n",
       "   'genre_ids': [27],\n",
       "   'id': 719221,\n",
       "   'original_language': 'en',\n",
       "   'original_title': 'Tarot',\n",
       "   'overview': 'When a group of friends recklessly violate the sacred rule of Tarot readings, they unknowingly unleash an unspeakable evil trapped within the cursed cards. One by one, they come face to face with fate and end up in a race against death.',\n",
       "   'popularity': 1099.786,\n",
       "   'poster_path': '/gAEUXC37vl1SnM7PXsHTF23I2vq.jpg',\n",
       "   'release_date': '2024-05-01',\n",
       "   'title': 'Tarot',\n",
       "   'video': False,\n",
       "   'vote_average': 6.496,\n",
       "   'vote_count': 504},\n",
       "  {'adult': False,\n",
       "   'backdrop_path': '/oZDRuGHhe5uY8wBqFJcJZT9kdvJ.jpg',\n",
       "   'genre_ids': [27, 9648, 53],\n",
       "   'id': 1086747,\n",
       "   'original_language': 'en',\n",
       "   'original_title': 'The Watchers',\n",
       "   'overview': 'A young artist gets stranded in an extensive, immaculate forest in western Ireland, where, after finding shelter, she becomes trapped alongside three strangers, stalked by mysterious creatures each night.',\n",
       "   'popularity': 1117.26,\n",
       "   'poster_path': '/vZVEUPychdvZLrTNwWErr9xZFmu.jpg',\n",
       "   'release_date': '2024-06-06',\n",
       "   'title': 'The Watchers',\n",
       "   'video': False,\n",
       "   'vote_average': 5.827,\n",
       "   'vote_count': 127},\n",
       "  {'adult': False,\n",
       "   'backdrop_path': '/kYgQzzjNis5jJalYtIHgrom0gOx.jpg',\n",
       "   'genre_ids': [16, 28, 10751, 35, 14],\n",
       "   'id': 1011985,\n",
       "   'original_language': 'en',\n",
       "   'original_title': 'Kung Fu Panda 4',\n",
       "   'overview': 'Po is gearing up to become the spiritual leader of his Valley of Peace, but also needs someone to take his place as Dragon Warrior. As such, he will train a new kung fu practitioner for the spot and will encounter a villain called the Chameleon who conjures villains from the past.',\n",
       "   'popularity': 1015.949,\n",
       "   'poster_path': '/kDp1vUBnMpe8ak4rjgl3cLELqjU.jpg',\n",
       "   'release_date': '2024-03-02',\n",
       "   'title': 'Kung Fu Panda 4',\n",
       "   'video': False,\n",
       "   'vote_average': 7.112,\n",
       "   'vote_count': 2014},\n",
       "  {'adult': False,\n",
       "   'backdrop_path': '/H5HjE7Xb9N09rbWn1zBfxgI8uz.jpg',\n",
       "   'genre_ids': [28, 35],\n",
       "   'id': 746036,\n",
       "   'original_language': 'en',\n",
       "   'original_title': 'The Fall Guy',\n",
       "   'overview': 'Fresh off an almost career-ending accident, stuntman Colt Seavers has to track down a missing movie star, solve a conspiracy and try to win back the love of his life while still doing his day job.',\n",
       "   'popularity': 895.517,\n",
       "   'poster_path': '/aBkqu7EddWK7qmY4grL4I6edx2h.jpg',\n",
       "   'release_date': '2024-04-24',\n",
       "   'title': 'The Fall Guy',\n",
       "   'video': False,\n",
       "   'vote_average': 7.254,\n",
       "   'vote_count': 1268},\n",
       "  {'adult': False,\n",
       "   'backdrop_path': '/nv6F6tz7r61DUhE7zgHwLJFcTYp.jpg',\n",
       "   'genre_ids': [10749, 35, 80],\n",
       "   'id': 974635,\n",
       "   'original_language': 'en',\n",
       "   'original_title': 'Hit Man',\n",
       "   'overview': 'A mild-mannered professor moonlighting as a fake hit man in police stings ignites a chain reaction of trouble when he falls for a potential client.',\n",
       "   'popularity': 832.05,\n",
       "   'poster_path': '/1126gjlBf4hTm9Sgf0ox3LGVEBt.jpg',\n",
       "   'release_date': '2024-05-16',\n",
       "   'title': 'Hit Man',\n",
       "   'video': False,\n",
       "   'vote_average': 7.0,\n",
       "   'vote_count': 302},\n",
       "  {'adult': False,\n",
       "   'backdrop_path': '/9Or1qeUZyOSQVglRXGnqc6owp21.jpg',\n",
       "   'genre_ids': [28],\n",
       "   'id': 1115623,\n",
       "   'original_language': 'en',\n",
       "   'original_title': 'The Last Kumite',\n",
       "   'overview': 'When Karate champion Michael Rivers wins the last tournament of his career, shady businessman Ron Hall offers him the opportunity to fight in an illegal Kumite in Bulgaria against the world’s best martial artists.  When Michael declines, Hall has his daughter kidnapped and, in order to rescue her, Rivers is left with no choice but to compete in the deadly tournament. Arriving in Bulgaria, he finds out that he is not the only fighter whose loved one was taken. Rivers enlists the help of trainers Master Loren, and Julie Jackson but will it be enough for him to win the tournament and save his daughter’s life?',\n",
       "   'popularity': 1246.18,\n",
       "   'poster_path': '/zDkaJgsPoSqa2cMe2hW2HAfyWwO.jpg',\n",
       "   'release_date': '2024-05-09',\n",
       "   'title': 'The Last Kumite',\n",
       "   'video': False,\n",
       "   'vote_average': 5.231,\n",
       "   'vote_count': 13},\n",
       "  {'adult': False,\n",
       "   'backdrop_path': '/eAIHqfS3kXm7kZl4j7ZBfdegyEz.jpg',\n",
       "   'genre_ids': [53, 28, 80],\n",
       "   'id': 38700,\n",
       "   'original_language': 'en',\n",
       "   'original_title': 'Bad Boys for Life',\n",
       "   'overview': 'Marcus and Mike are forced to confront new threats, career changes, and midlife crises as they join the newly created elite team AMMO of the Miami police department to take down the ruthless Armando Armas, the vicious leader of a Miami drug cartel.',\n",
       "   'popularity': 835.489,\n",
       "   'poster_path': '/y95lQLnuNKdPAzw9F9Ab8kJ80c3.jpg',\n",
       "   'release_date': '2020-01-15',\n",
       "   'title': 'Bad Boys for Life',\n",
       "   'video': False,\n",
       "   'vote_average': 7.125,\n",
       "   'vote_count': 7903},\n",
       "  {'adult': False,\n",
       "   'backdrop_path': '/11G6N5zW0KykVS0EcNKeXHUmQj8.jpg',\n",
       "   'genre_ids': [10752],\n",
       "   'id': 1136318,\n",
       "   'original_language': 'en',\n",
       "   'original_title': 'Battle Over Britain',\n",
       "   'overview': 'A young pilot, fresh out of training, is called to join a Flight while they wait for the call to scramble. Throughout a single day, he witnesses the skies of southern England filled with deadly dog fights, and after every exhausting battle the men return to their dispersal hut, only to find another of their number missing. Unwilling to surrender, the pilot and his comrades unite to take to the skies once more, determined to defend not only the airfield, but their entire country.',\n",
       "   'popularity': 799.489,\n",
       "   'poster_path': '/8htJ7keZTwa08aC9OKyiqaq1cNJ.jpg',\n",
       "   'release_date': '2023-12-01',\n",
       "   'title': 'Battle Over Britain',\n",
       "   'video': False,\n",
       "   'vote_average': 6.517,\n",
       "   'vote_count': 30},\n",
       "  {'adult': False,\n",
       "   'backdrop_path': '/xchNb8dvc8jQnPScwirwqUjIsn3.jpg',\n",
       "   'genre_ids': [28, 12, 878],\n",
       "   'id': 786892,\n",
       "   'original_language': 'en',\n",
       "   'original_title': 'Furiosa: A Mad Max Saga',\n",
       "   'overview': 'As the world fell, young Furiosa is snatched from the Green Place of Many Mothers and falls into the hands of a great Biker Horde led by the Warlord Dementus. Sweeping through the Wasteland they come across the Citadel presided over by The Immortan Joe. While the two Tyrants war for dominance, Furiosa must survive many trials as she puts together the means to find her way home.',\n",
       "   'popularity': 757.234,\n",
       "   'poster_path': '/iADOJ8Zymht2JPMoy3R7xceZprc.jpg',\n",
       "   'release_date': '2024-05-22',\n",
       "   'title': 'Furiosa: A Mad Max Saga',\n",
       "   'video': False,\n",
       "   'vote_average': 7.631,\n",
       "   'vote_count': 913},\n",
       "  {'adult': False,\n",
       "   'backdrop_path': '/iafs5DG5fGq7ef0acl3xlX4BFrs.jpg',\n",
       "   'genre_ids': [18, 10770],\n",
       "   'id': 1219685,\n",
       "   'original_language': 'fr',\n",
       "   'original_title': 'Un père idéal',\n",
       "   'overview': '',\n",
       "   'popularity': 517.23,\n",
       "   'poster_path': '/4xJd3uwtL1vCuZgEfEc8JXI9Uyx.jpg',\n",
       "   'release_date': '2024-04-21',\n",
       "   'title': 'Un père idéal',\n",
       "   'video': False,\n",
       "   'vote_average': 5.946,\n",
       "   'vote_count': 46}],\n",
       " 'total_pages': 44719,\n",
       " 'total_results': 894371}"
      ]
     },
     "execution_count": 9,
     "metadata": {},
     "output_type": "execute_result"
    }
   ],
   "source": [
    "response"
   ]
  },
  {
   "cell_type": "code",
   "execution_count": 10,
   "id": "c932f6ad",
   "metadata": {},
   "outputs": [
    {
     "name": "stdout",
     "output_type": "stream",
     "text": [
      "Inside Out 2\n",
      "Kingdom of the Planet of the Apes\n",
      "Under Paris\n",
      "Bad Boys: Ride or Die\n",
      "Inside Out\n",
      "Godzilla x Kong: The New Empire\n",
      "Civil War\n",
      "The Roundup: No Way Out\n",
      "Atlas\n",
      "Alienoid: Return to the Future\n",
      "Tarot\n",
      "The Watchers\n",
      "Kung Fu Panda 4\n",
      "The Fall Guy\n",
      "Hit Man\n",
      "The Last Kumite\n",
      "Bad Boys for Life\n",
      "Battle Over Britain\n",
      "Furiosa: A Mad Max Saga\n",
      "Un père idéal\n"
     ]
    }
   ],
   "source": [
    "for i in response['results']:\n",
    "    print(i['title'])"
   ]
  },
  {
   "cell_type": "code",
   "execution_count": 13,
   "id": "78be7d79",
   "metadata": {},
   "outputs": [
    {
     "data": {
      "application/javascript": [
       "\n",
       "        if (window._pyforest_update_imports_cell) { window._pyforest_update_imports_cell('import pandas as pd'); }\n",
       "    "
      ],
      "text/plain": [
       "<IPython.core.display.Javascript object>"
      ]
     },
     "metadata": {},
     "output_type": "display_data"
    }
   ],
   "source": [
    "# df=pd.DataFrame()"
   ]
  },
  {
   "cell_type": "code",
   "execution_count": 18,
   "id": "b248a3c7",
   "metadata": {},
   "outputs": [
    {
     "data": {
      "application/javascript": [
       "\n",
       "        if (window._pyforest_update_imports_cell) { window._pyforest_update_imports_cell('import pandas as pd'); }\n",
       "    "
      ],
      "text/plain": [
       "<IPython.core.display.Javascript object>"
      ]
     },
     "metadata": {},
     "output_type": "display_data"
    },
    {
     "data": {
      "text/html": [
       "<div>\n",
       "<style scoped>\n",
       "    .dataframe tbody tr th:only-of-type {\n",
       "        vertical-align: middle;\n",
       "    }\n",
       "\n",
       "    .dataframe tbody tr th {\n",
       "        vertical-align: top;\n",
       "    }\n",
       "\n",
       "    .dataframe thead th {\n",
       "        text-align: right;\n",
       "    }\n",
       "</style>\n",
       "<table border=\"1\" class=\"dataframe\">\n",
       "  <thead>\n",
       "    <tr style=\"text-align: right;\">\n",
       "      <th></th>\n",
       "      <th>name</th>\n",
       "      <th>Age</th>\n",
       "    </tr>\n",
       "  </thead>\n",
       "  <tbody>\n",
       "    <tr>\n",
       "      <th>0</th>\n",
       "      <td>kkkkk</td>\n",
       "      <td>23</td>\n",
       "    </tr>\n",
       "    <tr>\n",
       "      <th>1</th>\n",
       "      <td>ddddddd</td>\n",
       "      <td>44</td>\n",
       "    </tr>\n",
       "    <tr>\n",
       "      <th>2</th>\n",
       "      <td>pppppp</td>\n",
       "      <td>?</td>\n",
       "    </tr>\n",
       "  </tbody>\n",
       "</table>\n",
       "</div>"
      ],
      "text/plain": [
       "      name Age\n",
       "0    kkkkk  23\n",
       "1  ddddddd  44\n",
       "2   pppppp   ?"
      ]
     },
     "execution_count": 18,
     "metadata": {},
     "output_type": "execute_result"
    }
   ],
   "source": [
    "d={'name':['kkkkk','ddddddd','pppppp'], 'Age':[23,44,'?']}\n",
    "df=pd.DataFrame(d)\n",
    "df"
   ]
  },
  {
   "cell_type": "code",
   "execution_count": 30,
   "id": "3ac60e88",
   "metadata": {},
   "outputs": [],
   "source": [
    "popularity=[]\n",
    "vote_count=[]\n",
    "original_language=[]\n",
    "title=[]\n",
    "release_date=[]\n",
    "vote_average=[]\n",
    "overview=[]\n",
    "for i in response['results']:\n",
    "    popularity.append(i['popularity'])\n",
    "    vote_count.append(i['vote_count'])\n",
    "    original_language.append(i['original_language'])\n",
    "    title.append(i['title'])\n",
    "    release_date.append(i['release_date'])\n",
    "    vote_average.append(i['vote_average'])\n",
    "    overview.append(i['overview'])\n",
    "    d={'title': title,'overview':overview,'original_language':original_language,'release_date':release_date,'popularity':popularity, 'vote_count':vote_count,'vote_average':vote_average}\n",
    "    #df=pd.DataFrame(d)"
   ]
  },
  {
   "cell_type": "code",
   "execution_count": 31,
   "id": "badb0cf9",
   "metadata": {},
   "outputs": [
    {
     "data": {
      "application/javascript": [
       "\n",
       "        if (window._pyforest_update_imports_cell) { window._pyforest_update_imports_cell('import pandas as pd'); }\n",
       "    "
      ],
      "text/plain": [
       "<IPython.core.display.Javascript object>"
      ]
     },
     "metadata": {},
     "output_type": "display_data"
    }
   ],
   "source": [
    "df=pd.DataFrame(d)"
   ]
  },
  {
   "cell_type": "code",
   "execution_count": 32,
   "id": "c14e2559",
   "metadata": {},
   "outputs": [
    {
     "name": "stdout",
     "output_type": "stream",
     "text": [
      "                                title  \\\n",
      "0                        Inside Out 2   \n",
      "1   Kingdom of the Planet of the Apes   \n",
      "2                         Under Paris   \n",
      "3               Bad Boys: Ride or Die   \n",
      "4                          Inside Out   \n",
      "5     Godzilla x Kong: The New Empire   \n",
      "6                           Civil War   \n",
      "7             The Roundup: No Way Out   \n",
      "8                               Atlas   \n",
      "9      Alienoid: Return to the Future   \n",
      "10                              Tarot   \n",
      "11                       The Watchers   \n",
      "12                    Kung Fu Panda 4   \n",
      "13                       The Fall Guy   \n",
      "14                            Hit Man   \n",
      "15                    The Last Kumite   \n",
      "16                  Bad Boys for Life   \n",
      "17                Battle Over Britain   \n",
      "18            Furiosa: A Mad Max Saga   \n",
      "19                      Un père idéal   \n",
      "\n",
      "                                             overview original_language  \\\n",
      "0   Teenager Riley's mind headquarters is undergoi...                en   \n",
      "1   Several generations in the future following Ca...                en   \n",
      "2   In the Summer of 2024, Paris is hosting the Wo...                fr   \n",
      "3   After their late former Captain is framed, Low...                en   \n",
      "4   From an adventurous balloon ride above the clo...                en   \n",
      "5   Following their explosive showdown, Godzilla a...                en   \n",
      "6   In the near future, a group of war journalists...                en   \n",
      "7   Detective Ma Seok-do changes his affiliation f...                ko   \n",
      "8   A brilliant counterterrorism analyst with a de...                en   \n",
      "9   Ean has a critical mission to return to the fu...                ko   \n",
      "10  When a group of friends recklessly violate the...                en   \n",
      "11  A young artist gets stranded in an extensive, ...                en   \n",
      "12  Po is gearing up to become the spiritual leade...                en   \n",
      "13  Fresh off an almost career-ending accident, st...                en   \n",
      "14  A mild-mannered professor moonlighting as a fa...                en   \n",
      "15  When Karate champion Michael Rivers wins the l...                en   \n",
      "16  Marcus and Mike are forced to confront new thr...                en   \n",
      "17  A young pilot, fresh out of training, is calle...                en   \n",
      "18  As the world fell, young Furiosa is snatched f...                en   \n",
      "19                                                                   fr   \n",
      "\n",
      "   release_date  popularity  vote_count  vote_average  \n",
      "0    2024-06-11    9750.804         205         7.761  \n",
      "1    2024-05-08    4014.879        1073         6.832  \n",
      "2    2024-06-05    2822.686         520         5.820  \n",
      "3    2024-06-05    2744.583         298         7.069  \n",
      "4    2015-06-17    2731.637       20583         7.916  \n",
      "5    2024-03-27    2007.024        2792         7.217  \n",
      "6    2024-04-10    1707.985        1575         7.008  \n",
      "7    2023-05-31    1415.101         266         7.071  \n",
      "8    2024-05-23    1161.652         788         6.767  \n",
      "9    2024-01-10    1113.643         239         6.567  \n",
      "10   2024-05-01    1099.786         504         6.496  \n",
      "11   2024-06-06    1117.260         127         5.827  \n",
      "12   2024-03-02    1015.949        2014         7.112  \n",
      "13   2024-04-24     895.517        1268         7.254  \n",
      "14   2024-05-16     832.050         302         7.000  \n",
      "15   2024-05-09    1246.180          13         5.231  \n",
      "16   2020-01-15     835.489        7903         7.125  \n",
      "17   2023-12-01     799.489          30         6.517  \n",
      "18   2024-05-22     757.234         913         7.631  \n",
      "19   2024-04-21     517.230          46         5.946  \n"
     ]
    }
   ],
   "source": [
    "print(df)"
   ]
  },
  {
   "cell_type": "code",
   "execution_count": 35,
   "id": "8bc1b0f1",
   "metadata": {},
   "outputs": [
    {
     "data": {
      "application/javascript": [
       "\n",
       "        if (window._pyforest_update_imports_cell) { window._pyforest_update_imports_cell('import pandas as pd'); }\n",
       "    "
      ],
      "text/plain": [
       "<IPython.core.display.Javascript object>"
      ]
     },
     "metadata": {},
     "output_type": "display_data"
    },
    {
     "data": {
      "application/javascript": [
       "\n",
       "        if (window._pyforest_update_imports_cell) { window._pyforest_update_imports_cell('import pandas as pd'); }\n",
       "    "
      ],
      "text/plain": [
       "<IPython.core.display.Javascript object>"
      ]
     },
     "metadata": {},
     "output_type": "display_data"
    },
    {
     "ename": "AttributeError",
     "evalue": "'DataFrame' object has no attribute 'append'",
     "output_type": "error",
     "traceback": [
      "\u001b[1;31m---------------------------------------------------------------------------\u001b[0m",
      "\u001b[1;31mAttributeError\u001b[0m                            Traceback (most recent call last)",
      "\u001b[1;32m~\\AppData\\Local\\Temp\\ipykernel_9996\\1828631477.py\u001b[0m in \u001b[0;36m?\u001b[1;34m()\u001b[0m\n\u001b[0;32m     18\u001b[0m         \u001b[0moverview\u001b[0m\u001b[1;33m.\u001b[0m\u001b[0mappend\u001b[0m\u001b[1;33m(\u001b[0m\u001b[0mi\u001b[0m\u001b[1;33m[\u001b[0m\u001b[1;34m'overview'\u001b[0m\u001b[1;33m]\u001b[0m\u001b[1;33m)\u001b[0m\u001b[1;33m\u001b[0m\u001b[1;33m\u001b[0m\u001b[0m\n\u001b[0;32m     19\u001b[0m     \u001b[0md\u001b[0m\u001b[1;33m=\u001b[0m\u001b[1;33m{\u001b[0m\u001b[1;34m'title'\u001b[0m\u001b[1;33m:\u001b[0m \u001b[0mtitle\u001b[0m\u001b[1;33m,\u001b[0m\u001b[1;34m'overview'\u001b[0m\u001b[1;33m:\u001b[0m\u001b[0moverview\u001b[0m\u001b[1;33m,\u001b[0m\u001b[1;34m'original_language'\u001b[0m\u001b[1;33m:\u001b[0m\u001b[0moriginal_language\u001b[0m\u001b[1;33m,\u001b[0m\u001b[1;34m'release_date'\u001b[0m\u001b[1;33m:\u001b[0m\u001b[0mrelease_date\u001b[0m\u001b[1;33m,\u001b[0m\u001b[1;34m'popularity'\u001b[0m\u001b[1;33m:\u001b[0m\u001b[0mpopularity\u001b[0m\u001b[1;33m,\u001b[0m \u001b[1;34m'vote_count'\u001b[0m\u001b[1;33m:\u001b[0m\u001b[0mvote_count\u001b[0m\u001b[1;33m,\u001b[0m\u001b[1;34m'vote_average'\u001b[0m\u001b[1;33m:\u001b[0m\u001b[0mvote_average\u001b[0m\u001b[1;33m}\u001b[0m\u001b[1;33m\u001b[0m\u001b[1;33m\u001b[0m\u001b[0m\n\u001b[0;32m     20\u001b[0m         \u001b[1;31m#df=pd.DataFrame(d)\u001b[0m\u001b[1;33m\u001b[0m\u001b[1;33m\u001b[0m\u001b[0m\n\u001b[0;32m     21\u001b[0m     \u001b[0mdf\u001b[0m\u001b[1;33m=\u001b[0m\u001b[0mpd\u001b[0m\u001b[1;33m.\u001b[0m\u001b[0mDataFrame\u001b[0m\u001b[1;33m(\u001b[0m\u001b[0md\u001b[0m\u001b[1;33m)\u001b[0m\u001b[1;33m\u001b[0m\u001b[1;33m\u001b[0m\u001b[0m\n\u001b[1;32m---> 22\u001b[1;33m     \u001b[0mfinal\u001b[0m\u001b[1;33m=\u001b[0m\u001b[0mfinal\u001b[0m\u001b[1;33m.\u001b[0m\u001b[0mappend\u001b[0m\u001b[1;33m(\u001b[0m\u001b[0mdf\u001b[0m\u001b[1;33m,\u001b[0m \u001b[0mignore_index\u001b[0m\u001b[1;33m=\u001b[0m\u001b[1;32mTrue\u001b[0m\u001b[1;33m)\u001b[0m\u001b[1;33m\u001b[0m\u001b[1;33m\u001b[0m\u001b[0m\n\u001b[0m\u001b[0;32m     23\u001b[0m \u001b[1;33m\u001b[0m\u001b[0m\n",
      "\u001b[1;32m~\\anaconda3\\Lib\\site-packages\\pandas\\core\\generic.py\u001b[0m in \u001b[0;36m?\u001b[1;34m(self, name)\u001b[0m\n\u001b[0;32m   5985\u001b[0m             \u001b[1;32mand\u001b[0m \u001b[0mname\u001b[0m \u001b[1;32mnot\u001b[0m \u001b[1;32min\u001b[0m \u001b[0mself\u001b[0m\u001b[1;33m.\u001b[0m\u001b[0m_accessors\u001b[0m\u001b[1;33m\u001b[0m\u001b[1;33m\u001b[0m\u001b[0m\n\u001b[0;32m   5986\u001b[0m             \u001b[1;32mand\u001b[0m \u001b[0mself\u001b[0m\u001b[1;33m.\u001b[0m\u001b[0m_info_axis\u001b[0m\u001b[1;33m.\u001b[0m\u001b[0m_can_hold_identifiers_and_holds_name\u001b[0m\u001b[1;33m(\u001b[0m\u001b[0mname\u001b[0m\u001b[1;33m)\u001b[0m\u001b[1;33m\u001b[0m\u001b[1;33m\u001b[0m\u001b[0m\n\u001b[0;32m   5987\u001b[0m         ):\n\u001b[0;32m   5988\u001b[0m             \u001b[1;32mreturn\u001b[0m \u001b[0mself\u001b[0m\u001b[1;33m[\u001b[0m\u001b[0mname\u001b[0m\u001b[1;33m]\u001b[0m\u001b[1;33m\u001b[0m\u001b[1;33m\u001b[0m\u001b[0m\n\u001b[1;32m-> 5989\u001b[1;33m         \u001b[1;32mreturn\u001b[0m \u001b[0mobject\u001b[0m\u001b[1;33m.\u001b[0m\u001b[0m__getattribute__\u001b[0m\u001b[1;33m(\u001b[0m\u001b[0mself\u001b[0m\u001b[1;33m,\u001b[0m \u001b[0mname\u001b[0m\u001b[1;33m)\u001b[0m\u001b[1;33m\u001b[0m\u001b[1;33m\u001b[0m\u001b[0m\n\u001b[0m",
      "\u001b[1;31mAttributeError\u001b[0m: 'DataFrame' object has no attribute 'append'"
     ]
    }
   ],
   "source": [
    "final =pd.DataFrame()\n",
    "for j in range(1,500):\n",
    "    response=requests.get('https://api.themoviedb.org/3/movie/popular?api_key=c3a2506b8176c9c16296d5c28975d11f&language=en-US&page={}'.format(j)).json()\n",
    "    popularity=[]\n",
    "    vote_count=[]\n",
    "    original_language=[]\n",
    "    title=[]\n",
    "    release_date=[]\n",
    "    vote_average=[]\n",
    "    overview=[]\n",
    "    for i in response['results']:\n",
    "        popularity.append(i['popularity'])\n",
    "        vote_count.append(i['vote_count'])\n",
    "        original_language.append(i['original_language'])\n",
    "        title.append(i['title'])\n",
    "        release_date.append(i['release_date'])\n",
    "        vote_average.append(i['vote_average'])\n",
    "        overview.append(i['overview'])\n",
    "    d={'title': title,'overview':overview,'original_language':original_language,'release_date':release_date,'popularity':popularity, 'vote_count':vote_count,'vote_average':vote_average}\n",
    "        #df=pd.DataFrame(d)\n",
    "    df=pd.DataFrame(d)\n",
    "    final=final.append(df, ignore_index=True)\n",
    "            \n"
   ]
  },
  {
   "cell_type": "code",
   "execution_count": 39,
   "id": "e228c740",
   "metadata": {},
   "outputs": [
    {
     "name": "stdout",
     "output_type": "stream",
     "text": [
      "An error occurred on page 1: HTTPSConnectionPool(host='api.themoviedb.org', port=443): Max retries exceeded with url: /3/movie/popular?api_key=c3a2506b8176c9c16296d5c28975d11f&language=en-US&page=1 (Caused by NewConnectionError('<urllib3.connection.HTTPSConnection object at 0x0000024DECEE4B10>: Failed to establish a new connection: [Errno 11001] getaddrinfo failed'))\n"
     ]
    },
    {
     "data": {
      "application/javascript": [
       "\n",
       "        if (window._pyforest_update_imports_cell) { window._pyforest_update_imports_cell('import pandas as pd'); }\n",
       "    "
      ],
      "text/plain": [
       "<IPython.core.display.Javascript object>"
      ]
     },
     "metadata": {},
     "output_type": "display_data"
    },
    {
     "data": {
      "text/html": [
       "<div>\n",
       "<style scoped>\n",
       "    .dataframe tbody tr th:only-of-type {\n",
       "        vertical-align: middle;\n",
       "    }\n",
       "\n",
       "    .dataframe tbody tr th {\n",
       "        vertical-align: top;\n",
       "    }\n",
       "\n",
       "    .dataframe thead th {\n",
       "        text-align: right;\n",
       "    }\n",
       "</style>\n",
       "<table border=\"1\" class=\"dataframe\">\n",
       "  <thead>\n",
       "    <tr style=\"text-align: right;\">\n",
       "      <th></th>\n",
       "    </tr>\n",
       "  </thead>\n",
       "  <tbody>\n",
       "  </tbody>\n",
       "</table>\n",
       "</div>"
      ],
      "text/plain": [
       "Empty DataFrame\n",
       "Columns: []\n",
       "Index: []"
      ]
     },
     "execution_count": 39,
     "metadata": {},
     "output_type": "execute_result"
    }
   ],
   "source": [
    "final_data = []\n",
    "\n",
    "for j in range(1, 500):\n",
    "    try:\n",
    "        response = requests.get(f'https://api.themoviedb.org/3/movie/popular?api_key=c3a2506b8176c9c16296d5c28975d11f&language=en-US&page={j}').json()\n",
    "        if 'results' in response:\n",
    "            for i in response['results']:\n",
    "                final_data.append({\n",
    "                    'title': i['title'],\n",
    "                    'overview': i['overview'],\n",
    "                    'original_language': i['original_language'],\n",
    "                    'release_date': i['release_date'],\n",
    "                    'popularity': i['popularity'],\n",
    "                    'vote_count': i['vote_count'],\n",
    "                    'vote_average': i['vote_average']\n",
    "                })\n",
    "        else:\n",
    "            print(f\"Error: No results found on page {j}\")\n",
    "            break\n",
    "    except Exception as e:\n",
    "        print(f\"An error occurred on page {j}: {e}\")\n",
    "        break\n",
    "\n",
    "final_data = pd.DataFrame(final_data)\n",
    "final_data.head()  # Display the first few rows of the final DataFrame"
   ]
  },
  {
   "cell_type": "code",
   "execution_count": null,
   "id": "6bf2035b",
   "metadata": {},
   "outputs": [],
   "source": []
  }
 ],
 "metadata": {
  "kernelspec": {
   "display_name": "Python 3 (ipykernel)",
   "language": "python",
   "name": "python3"
  },
  "language_info": {
   "codemirror_mode": {
    "name": "ipython",
    "version": 3
   },
   "file_extension": ".py",
   "mimetype": "text/x-python",
   "name": "python",
   "nbconvert_exporter": "python",
   "pygments_lexer": "ipython3",
   "version": "3.11.5"
  }
 },
 "nbformat": 4,
 "nbformat_minor": 5
}
