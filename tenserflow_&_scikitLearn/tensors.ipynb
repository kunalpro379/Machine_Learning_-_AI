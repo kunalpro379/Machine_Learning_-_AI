{
 "cells": [
  {
   "cell_type": "code",
   "execution_count": 9,
   "id": "f5148513",
   "metadata": {},
   "outputs": [],
   "source": [
    "# import numpy as np"
   ]
  },
  {
   "cell_type": "code",
   "execution_count": 10,
   "id": "2b6cdb0e",
   "metadata": {},
   "outputs": [
    {
     "data": {
      "text/plain": [
       "array(4)"
      ]
     },
     "execution_count": 10,
     "metadata": {},
     "output_type": "execute_result"
    }
   ],
   "source": [
    "a= np.array(4)\n",
    "#tensors---> container to store\n",
    "a   #0-d array-> 0d tensor"
   ]
  },
  {
   "cell_type": "code",
   "execution_count": 11,
   "id": "d501d24b",
   "metadata": {},
   "outputs": [
    {
     "data": {
      "text/plain": [
       "0"
      ]
     },
     "execution_count": 11,
     "metadata": {},
     "output_type": "execute_result"
    }
   ],
   "source": [
    "a.ndim"
   ]
  },
  {
   "cell_type": "markdown",
   "id": "697c9cfd",
   "metadata": {},
   "source": [
    "# // \n",
    "     1d tensor  ->vector-> 1d array \n",
    "     ndim---> 1 \n",
    "     1d tensor---> 1 dim\n",
    "     2d tensor---> 2 dim \n",
    "     no. of axes= rank = dim\n"
   ]
  },
  {
   "cell_type": "markdown",
   "id": "047954d4",
   "metadata": {},
   "source": [
    "# //\n",
    "        4 scalars -->vectors\n",
    "        matrix--> collection of vectors\n"
   ]
  },
  {
   "cell_type": "code",
   "execution_count": 13,
   "id": "6d80eb4f",
   "metadata": {},
   "outputs": [
    {
     "data": {
      "text/plain": [
       "array([[3, 6, 9],\n",
       "       [2, 5, 8],\n",
       "       [1, 4, 6]])"
      ]
     },
     "execution_count": 13,
     "metadata": {},
     "output_type": "execute_result"
    }
   ],
   "source": [
    "mat=np.array([[3,6,9],[2,5,8],[1,4,6]])\n",
    "mat"
   ]
  },
  {
   "cell_type": "code",
   "execution_count": null,
   "id": "9715eaa7",
   "metadata": {},
   "outputs": [],
   "source": []
  },
  {
   "cell_type": "code",
   "execution_count": null,
   "id": "a9f0c4e9",
   "metadata": {},
   "outputs": [],
   "source": []
  },
  {
   "cell_type": "code",
   "execution_count": null,
   "id": "deb44b50",
   "metadata": {},
   "outputs": [],
   "source": []
  }
 ],
 "metadata": {
  "kernelspec": {
   "display_name": "Python 3 (ipykernel)",
   "language": "python",
   "name": "python3"
  },
  "language_info": {
   "codemirror_mode": {
    "name": "ipython",
    "version": 3
   },
   "file_extension": ".py",
   "mimetype": "text/x-python",
   "name": "python",
   "nbconvert_exporter": "python",
   "pygments_lexer": "ipython3",
   "version": "3.11.5"
  }
 },
 "nbformat": 4,
 "nbformat_minor": 5
}
