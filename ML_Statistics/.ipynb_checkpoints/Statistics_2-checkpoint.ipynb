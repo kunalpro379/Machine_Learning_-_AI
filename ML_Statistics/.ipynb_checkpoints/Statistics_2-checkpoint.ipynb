{
 "cells": [
  {
   "cell_type": "code",
   "execution_count": 1,
   "id": "290941c1",
   "metadata": {},
   "outputs": [],
   "source": [
    "#Outliers detection\n",
    "\n",
    "import numpy as np \n",
    "import matplotlib.pyplot as plt\n",
    "%matplotlib inline\n"
   ]
  },
  {
   "cell_type": "code",
   "execution_count": 11,
   "id": "4ee81bd3",
   "metadata": {},
   "outputs": [],
   "source": [
    "dataset=[11,19,1200,14,12,15,14,13,15,102,12,14,17,19,107,10,13,12,14,12,108,12,11,14,13,15,12,10,14,13,15,10]"
   ]
  },
  {
   "cell_type": "code",
   "execution_count": 12,
   "id": "49e08558",
   "metadata": {},
   "outputs": [
    {
     "data": {
      "text/plain": [
       "(array([31.,  0.,  0.,  0.,  0.,  0.,  0.,  0.,  0.,  1.]),\n",
       " array([  10.,  129.,  248.,  367.,  486.,  605.,  724.,  843.,  962.,\n",
       "        1081., 1200.]),\n",
       " <BarContainer object of 10 artists>)"
      ]
     },
     "execution_count": 12,
     "metadata": {},
     "output_type": "execute_result"
    },
    {
     "data": {
      "image/png": "[encoded data removed]",
      "text/plain": [
       "<Figure size 640x480 with 1 Axes>"
      ]
     },
     "metadata": {},
     "output_type": "display_data"
    }
   ],
   "source": [
    "plt.hist(dataset)"
   ]
  },
  {
   "cell_type": "code",
   "execution_count": 13,
   "id": "015dba20",
   "metadata": {},
   "outputs": [],
   "source": [
    "# zscore technique \n",
    "outliers=[]\n",
    "def detect_outliers(data):\n",
    "    threshold=3\n",
    "    # 3rd std deviation\n",
    "    mean=np.mean(data) \n",
    "    std=np.std(data)\n",
    "    for i in data:\n",
    "        z_score=(i-mean)/std\n",
    "        if np.abs(z_score)>threshold:\n",
    "            outliers.append(i)\n",
    "        return outliers"
   ]
  },
  {
   "cell_type": "code",
   "execution_count": 14,
   "id": "379e099f",
   "metadata": {},
   "outputs": [
    {
     "data": {
      "text/plain": [
       "[]"
      ]
     },
     "execution_count": 14,
     "metadata": {},
     "output_type": "execute_result"
    }
   ],
   "source": [
    "detect_outliers(dataset)"
   ]
  },
  {
   "cell_type": "code",
   "execution_count": 15,
   "id": "30d103de",
   "metadata": {},
   "outputs": [
    {
     "name": "stdout",
     "output_type": "stream",
     "text": [
      "[1200]\n"
     ]
    }
   ],
   "source": [
    "def detect_outliers(data):\n",
    "    threshold = 3\n",
    "    mean = np.mean(data) \n",
    "    std = np.std(data)\n",
    "    outliers = []  \n",
    "    for i in data:\n",
    "        z_score = (i - mean) / std\n",
    "        if np.abs(z_score) > threshold:\n",
    "            outliers.append(i)\n",
    "    return outliers\n",
    "\n",
    "outliers = detect_outliers(dataset)\n",
    "print(outliers)"
   ]
  },
  {
   "cell_type": "code",
   "execution_count": 16,
   "id": "3e410550",
   "metadata": {},
   "outputs": [],
   "source": [
    "# iqr technique\n",
    "\n",
    "# sort the data \n",
    "# calculate Q1 25%ile and Q3 75%ile \n",
    "# IQR(Q3-Q1)\n",
    "# find the lower fence(Q1-1.5IQR)\n",
    "# find the upper fence(Q3-1.5IQR)"
   ]
  },
  {
   "cell_type": "code",
   "execution_count": 17,
   "id": "0804e8b7",
   "metadata": {},
   "outputs": [],
   "source": [
    "dataset=sorted(dataset)"
   ]
  },
  {
   "cell_type": "code",
   "execution_count": 18,
   "id": "d11cab83",
   "metadata": {},
   "outputs": [
    {
     "data": {
      "text/plain": [
       "[10,\n",
       " 10,\n",
       " 10,\n",
       " 11,\n",
       " 11,\n",
       " 12,\n",
       " 12,\n",
       " 12,\n",
       " 12,\n",
       " 12,\n",
       " 12,\n",
       " 13,\n",
       " 13,\n",
       " 13,\n",
       " 13,\n",
       " 14,\n",
       " 14,\n",
       " 14,\n",
       " 14,\n",
       " 14,\n",
       " 14,\n",
       " 15,\n",
       " 15,\n",
       " 15,\n",
       " 15,\n",
       " 17,\n",
       " 19,\n",
       " 19,\n",
       " 102,\n",
       " 107,\n",
       " 108,\n",
       " 1200]"
      ]
     },
     "execution_count": 18,
     "metadata": {},
     "output_type": "execute_result"
    }
   ],
   "source": [
    "dataset\n"
   ]
  },
  {
   "cell_type": "code",
   "execution_count": 19,
   "id": "0c37ccbe",
   "metadata": {},
   "outputs": [
    {
     "data": {
      "text/plain": [
       "15.0"
      ]
     },
     "execution_count": 19,
     "metadata": {},
     "output_type": "execute_result"
    }
   ],
   "source": [
    "q1,q3=np.percentile(dataset,[25,75])\n",
    "q1\n",
    "q3"
   ]
  },
  {
   "cell_type": "code",
   "execution_count": 20,
   "id": "c6583fcf",
   "metadata": {},
   "outputs": [
    {
     "data": {
      "text/plain": [
       "3.0"
      ]
     },
     "execution_count": 20,
     "metadata": {},
     "output_type": "execute_result"
    }
   ],
   "source": [
    "IQR=q3-q1\n",
    "IQR"
   ]
  },
  {
   "cell_type": "code",
   "execution_count": 23,
   "id": "54d0e286",
   "metadata": {},
   "outputs": [
    {
     "name": "stdout",
     "output_type": "stream",
     "text": [
      "7.5 19.5\n"
     ]
    }
   ],
   "source": [
    "lowerfence=q1-(1.5)*IQR\n",
    "uppefence=q3+(1.5)*IQR\n",
    "print(lowerfence,uppefence)"
   ]
  },
  {
   "cell_type": "code",
   "execution_count": 24,
   "id": "1ef6fa69",
   "metadata": {},
   "outputs": [],
   "source": [
    "import seaborn as sn\n"
   ]
  },
  {
   "cell_type": "code",
   "execution_count": 25,
   "id": "f0e7bd5a",
   "metadata": {},
   "outputs": [
    {
     "data": {
      "text/plain": [
       "<Axes: >"
      ]
     },
     "execution_count": 25,
     "metadata": {},
     "output_type": "execute_result"
    },
    {
     "data": {
      "image/png": "[encoded data removed]",
      "text/plain": [
       "<Figure size 640x480 with 1 Axes>"
      ]
     },
     "metadata": {},
     "output_type": "display_data"
    }
   ],
   "source": [
    "sn.boxplot(dataset)"
   ]
  },
  {
   "cell_type": "code",
   "execution_count": 30,
   "id": "22fc6b13",
   "metadata": {},
   "outputs": [],
   "source": [
    "def outliers_detection(data):\n",
    "    outliers = [x for x in data if x < lowerfence or x > uppefence]\n",
    "    return outliers"
   ]
  },
  {
   "cell_type": "code",
   "execution_count": 31,
   "id": "509554b8",
   "metadata": {},
   "outputs": [
    {
     "data": {
      "text/plain": [
       "[102, 107, 108, 1200]"
      ]
     },
     "execution_count": 31,
     "metadata": {},
     "output_type": "execute_result"
    }
   ],
   "source": [
    "outliers_detection(dataset)"
   ]
  },
  {
   "cell_type": "code",
   "execution_count": null,
   "id": "7c861093",
   "metadata": {},
   "outputs": [],
   "source": []
  }
 ],
 "metadata": {
  "kernelspec": {
   "display_name": "Python 3 (ipykernel)",
   "language": "python",
   "name": "python3"
  },
  "language_info": {
   "codemirror_mode": {
    "name": "ipython",
    "version": 3
   },
   "file_extension": ".py",
   "mimetype": "text/x-python",
   "name": "python",
   "nbconvert_exporter": "python",
   "pygments_lexer": "ipython3",
   "version": "3.11.5"
  }
 },
 "nbformat": 4,
 "nbformat_minor": 5
}
