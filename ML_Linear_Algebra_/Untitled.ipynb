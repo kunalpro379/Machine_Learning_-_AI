{
 "cells": [
  {
   "cell_type": "code",
   "execution_count": 1,
   "id": "8a7cf184",
   "metadata": {},
   "outputs": [],
   "source": [
    "import numpy as np\n",
    "A=np.array([1,2,3,4,99999,3,3,544,2,355,222,334,2,2,2,2,2,22344,33,55,55])"
   ]
  },
  {
   "cell_type": "code",
   "execution_count": 2,
   "id": "f05a86c2",
   "metadata": {},
   "outputs": [
    {
     "name": "stdout",
     "output_type": "stream",
     "text": [
      "Euclidean distance from the origin 102467.77224571636\n"
     ]
    }
   ],
   "source": [
    "distance=np.linalg.norm(A)\n",
    "print(\"Euclidean distance from the origin\", distance)"
   ]
  },
  {
   "cell_type": "code",
   "execution_count": 3,
   "id": "a61c7687",
   "metadata": {},
   "outputs": [
    {
     "data": {
      "text/plain": [
       "array([-22, -52, -82, -82])"
      ]
     },
     "execution_count": 3,
     "metadata": {},
     "output_type": "execute_result"
    }
   ],
   "source": [
    "A=np.array([1,4,7,5])\n",
    "B=np.array([23,56,89,87])\n",
    "diff=A-B\n",
    "diff"
   ]
  },
  {
   "cell_type": "code",
   "execution_count": 4,
   "id": "b3dd5153",
   "metadata": {},
   "outputs": [
    {
     "name": "stdout",
     "output_type": "stream",
     "text": [
      "Ecludian dist between A and B 128.98061869908983\n"
     ]
    }
   ],
   "source": [
    "dist=np.linalg.norm(diff)\n",
    "print(\"Ecludian dist between A and B\", dist)"
   ]
  },
  {
   "cell_type": "code",
   "execution_count": null,
   "id": "0fd42540",
   "metadata": {},
   "outputs": [],
   "source": []
  }
 ],
 "metadata": {
  "kernelspec": {
   "display_name": "Python 3 (ipykernel)",
   "language": "python",
   "name": "python3"
  },
  "language_info": {
   "codemirror_mode": {
    "name": "ipython",
    "version": 3
   },
   "file_extension": ".py",
   "mimetype": "text/x-python",
   "name": "python",
   "nbconvert_exporter": "python",
   "pygments_lexer": "ipython3",
   "version": "3.11.5"
  }
 },
 "nbformat": 4,
 "nbformat_minor": 5
}
